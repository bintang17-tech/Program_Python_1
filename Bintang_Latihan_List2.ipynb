{
 "cells": [
  {
   "cell_type": "code",
   "execution_count": 5,
   "id": "938cd98d-d70b-4abd-be6d-8917b7f734b7",
   "metadata": {},
   "outputs": [
    {
     "name": "stdout",
     "output_type": "stream",
     "text": [
      "elemen awal\n",
      "[2, 3, 5, 7, 11]\n",
      "setelah append:\n",
      "[2, 3, 5, 7, 11, 13]\n",
      "setelah insert:\n",
      "[17, 2, 3, 5, 7, 11, 13]\n",
      "setelah extend():\n",
      "[17, 2, 3, 5, 7, 11, 13, '19', '23']\n",
      "\n",
      "elemen awal\n",
      "['Serang', 'Cikarang', 'Bekasi', 'Jawa barat', 'Indonesia']\n",
      "setelah append:\n",
      "['Serang', 'Cikarang', 'Bekasi', 'Jawa barat', 'Indonesia', 'Jakarta']\n",
      "setelah insert:\n",
      "['Serang', 'Depok', 'Cikarang', 'Bekasi', 'Jawa barat', 'Indonesia', 'Jakarta']\n",
      "setelah extend():\n",
      "['Serang', 'Depok', 'Cikarang', 'Bekasi', 'Jawa barat', 'Indonesia', 'Jakarta', 'Bandung', 'Cianjur']\n"
     ]
    }
   ],
   "source": [
    "#menambahkan element tunggal\n",
    "#Metode Append\n",
    "#Metode Insert\n",
    "#Metode Extend\n",
    "\n",
    "#Membuat List Prima\n",
    "Prima = [2,3,5,7,11]\n",
    "print('elemen awal')\n",
    "print(Prima)\n",
    "#Menggunakan Metode Append(); untuk menambahkan elemen tunggal di bagian akhir prima\n",
    "Prima.append(13)\n",
    "print('setelah append:')\n",
    "print(Prima)\n",
    "#menggunakan metode insert(); untuk menambahkan elemen tunggal di indeks/posisi tertentu\n",
    "Prima.insert(0,17)\n",
    "print('setelah insert:')\n",
    "print(Prima)\n",
    "#menggunakan metode Extend(); untuk menyambungkan atau menghubungkan suatu list dengan list lainnya\n",
    "Prima.extend(['19','23'])\n",
    "print('setelah extend():')\n",
    "print(Prima)\n",
    "print('')\n",
    "#Membuat List Daerah\n",
    "List = ['Serang', 'Cikarang', 'Bekasi','Jawa barat','Indonesia']\n",
    "print('elemen awal')\n",
    "print(List)\n",
    "#Menggunakan Metode Append(); untuk menambahkan elemen tunggal di bagian akhir prima\n",
    "List.append('Jakarta')\n",
    "print('setelah append:')\n",
    "print(List)\n",
    "#menggunakan metode insert(); untuk menambahkan elemen tunggal di indeks/posisi tertentu\n",
    "List.insert(1,'Depok')\n",
    "print('setelah insert:')\n",
    "print(List)\n",
    "#menggunakan metode Extend(); untuk menyambungkan atau menghubungkan suatu list dengan list lainnya\n",
    "List.extend(['Bandung','Cianjur'])\n",
    "print('setelah extend():')\n",
    "print(List)\n",
    "\n"
   ]
  },
  {
   "cell_type": "code",
   "execution_count": null,
   "id": "f146582b-92d7-43a5-8c0b-d6be8cf528cc",
   "metadata": {},
   "outputs": [],
   "source": []
  }
 ],
 "metadata": {
  "kernelspec": {
   "display_name": "Python 3 (ipykernel)",
   "language": "python",
   "name": "python3"
  },
  "language_info": {
   "codemirror_mode": {
    "name": "ipython",
    "version": 3
   },
   "file_extension": ".py",
   "mimetype": "text/x-python",
   "name": "python",
   "nbconvert_exporter": "python",
   "pygments_lexer": "ipython3",
   "version": "3.12.4"
  }
 },
 "nbformat": 4,
 "nbformat_minor": 5
}
