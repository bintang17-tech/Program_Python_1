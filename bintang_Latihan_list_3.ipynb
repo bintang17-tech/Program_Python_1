{
 "cells": [
  {
   "cell_type": "markdown",
   "id": "aba25567-1f88-43be-b6f2-79db0bf0bd51",
   "metadata": {},
   "source": [
    "# Catatan"
   ]
  },
  {
   "cell_type": "markdown",
   "id": "9d26f5b8-4c7b-4dd0-a582-4c479842f711",
   "metadata": {},
   "source": [
    "# Mengganti Elemen List"
   ]
  },
  {
   "cell_type": "code",
   "execution_count": 5,
   "id": "78914700-7a8e-4edd-a32f-08138cdc14fe",
   "metadata": {},
   "outputs": [
    {
     "name": "stdout",
     "output_type": "stream",
     "text": [
      "Sebelum diubah\n",
      "['bakso', 'soto', 'sate']\n",
      ".\n",
      "setelah diubah\n",
      "['bakso', 'rendang', 'ayam bakar']\n"
     ]
    }
   ],
   "source": [
    "#Mengubah nilai Elemen\n",
    "#membuat list\n",
    "menu = ['bakso', 'soto','sate']\n",
    "print('Sebelum diubah')\n",
    "print(menu)\n",
    "\n",
    "#mengubah nilai elemen list\n",
    "menu[1]='rendang'\n",
    "menu[-1]='ayam bakar'\n",
    "\n",
    "#menampilkan hasil perubahan\n",
    "print('.\\nsetelah diubah')\n",
    "print(menu)"
   ]
  },
  {
   "cell_type": "markdown",
   "id": "72445a37-b28c-4b51-9999-94c7ef54c274",
   "metadata": {},
   "source": [
    "# Menghapus Elemen menggunakan remove(), delete(), dam clear()"
   ]
  },
  {
   "cell_type": "code",
   "execution_count": 55,
   "id": "03642953-7945-4d80-aedb-7c4884405e48",
   "metadata": {},
   "outputs": [
    {
     "name": "stdout",
     "output_type": "stream",
     "text": [
      "Sebelum dihapus\n",
      "['bakso', 'soto', 'sate', 'martabak', 'kerak telor', 'donat', '']\n",
      "\n",
      "setelah dihapus menggunakan metode remove\n",
      "['sate', 'martabak', 'kerak telor', 'donat', '']\n",
      "\n",
      "setelah dihapus menggunakan metode del\n",
      "['martabak', 'kerak telor', 'donat']\n",
      "\n",
      "setelah dihapus menggunakan metode clear\n",
      "[]\n"
     ]
    }
   ],
   "source": [
    "#menghapus elemen dari list \n",
    "#membuat list\n",
    "menu = ['bakso', 'soto','sate','martabak','kerak telor','donat','']\n",
    "print('Sebelum dihapus')\n",
    "print(menu)\n",
    "print()\n",
    "\n",
    "#menggunakan remove();menghapus elemen list berdasarkan nilainya\n",
    "#bentuk umum: nama_variacel.remove()\n",
    "menu.remove('bakso')\n",
    "menu.remove('soto')\n",
    "\n",
    "#menampilkan hasil perubahan setelah remove()\n",
    "print('setelah dihapus menggunakan metode remove')\n",
    "print(menu)\n",
    "print()\n",
    "\n",
    "#menggunakan del[];menghapus elemen list berdasarkan indeksnya\n",
    "#Bentuk umum : del nama_variabel[indeks]\n",
    "del menu[0]\n",
    "del menu[-1]\n",
    "\n",
    "#menampilkan hasil perubahan setelah del[]\n",
    "print('setelah dihapus menggunakan metode del')\n",
    "print(menu)\n",
    "print()\n",
    "\n",
    "\n",
    "#menggunakan clear[];menghapus seluruh elemen list \n",
    "#Bentuk umum : del nama_variabel[indeks]\n",
    "menu.clear()\n",
    "menu.clear()\n",
    "\n",
    "#menampilkan hasil perubahan setelah clear[]\n",
    "print('setelah dihapus menggunakan metode clear')\n",
    "print(menu)"
   ]
  },
  {
   "cell_type": "code",
   "execution_count": 99,
   "id": "0975ac69-e0e6-4f3b-bac7-b3c1cf5804b6",
   "metadata": {},
   "outputs": [
    {
     "name": "stdout",
     "output_type": "stream",
     "text": [
      "Sebelum dihapus\n",
      "['bakso', 'soto', 'sate', 'martabak', 'kerak telor', 'donat']\n",
      "\n",
      "bakso berada pada indeks ke-\n",
      "0\n",
      "donat berada pada indeks ke-\n",
      "5\n"
     ]
    }
   ],
   "source": [
    "#Mencari elemen didalam list\n",
    "#menggunakan metode index()\n",
    "#bentuk umum : nama_list.index(nilai)\n",
    "#membuat list\n",
    "menu = ['bakso', 'soto','sate','martabak','kerak telor','donat',]\n",
    "print('Sebelum dihapus')\n",
    "print(menu)\n",
    "print()\n",
    "\n",
    "#mencari elemen list\n",
    "#bentuk umum: nama_variabel.index('nilai atau elemen yg akan diindeks')\n",
    "print('bakso berada pada indeks ke-')\n",
    "print(menu.index('bakso'))\n",
    "print('donat berada pada indeks ke-')\n",
    "print(menu.index('donat'))"
   ]
  },
  {
   "cell_type": "markdown",
   "id": "dd376cbe-890e-4044-b313-d451c9199563",
   "metadata": {},
   "source": [
    "# Sort dan Reverse"
   ]
  },
  {
   "cell_type": "code",
   "execution_count": 47,
   "id": "d2e66d52-7930-46c9-9a48-11b189a122ed",
   "metadata": {},
   "outputs": [
    {
     "name": "stdout",
     "output_type": "stream",
     "text": [
      "Data list awal\n",
      "['bakso', 'soto', 'sate', 'martabak', 'kerak telor', 'donat', 'pukis']\n",
      "\n",
      "data setelah di sort()\n",
      "['bakso', 'donat', 'kerak telor', 'martabak', 'pukis', 'sate', 'soto']\n",
      "\n",
      "data setelah di reverse()\n",
      "['soto', 'sate', 'pukis', 'martabak', 'kerak telor', 'donat', 'bakso']\n",
      "\n"
     ]
    }
   ],
   "source": [
    "#Menyusun data didalam list menggunakan metode sort()dan metode reverse()\n",
    "menu = ['bakso', 'soto','sate','martabak','kerak telor','donat','pukis']\n",
    "\n",
    "\n",
    "#menggunakan metode sort()\n",
    "print('Data list awal')\n",
    "print(menu)\n",
    "print()\n",
    "print('data setelah di sort()')\n",
    "menu.sort()\n",
    "print(menu)\n",
    "print()\n",
    "#menggunakan metode reverse()\n",
    "print('data setelah di reverse()')\n",
    "menu.reverse()\n",
    "print(menu)\n",
    "print()"
   ]
  },
  {
   "cell_type": "markdown",
   "id": "d225576c-ff6f-4f4f-b954-f122c731ef20",
   "metadata": {},
   "source": [
    "# Doubles pada karakter didalam list"
   ]
  },
  {
   "cell_type": "code",
   "execution_count": 83,
   "id": "1728643b-5653-461e-b8c4-676197049bde",
   "metadata": {},
   "outputs": [
    {
     "name": "stdout",
     "output_type": "stream",
     "text": [
      "Menu\n",
      "['bakso', 'soto', 'sate', 'martabak', 'kerak telor', 'donat', 'pukis', 88225875262]\n",
      "Mengulang karakter pada item martabak sebanyak 2 kali\n",
      "['mm', 'aa', 'rr', 'tt', 'aa', 'bb', 'aa', 'kk']\n",
      "Mengulang karakter pada item martabak sebanyak 2 kali\n",
      "['88', '88', '22', '22', '55', '88', '77', '55', '22', '66', '22']\n"
     ]
    }
   ],
   "source": [
    "#Mengulang karakter dalam string\n",
    "menu = ['bakso', 'soto','sate','martabak','kerak telor','donat','pukis', 88225875262]\n",
    "print('Menu')\n",
    "print(menu)\n",
    "print('Mengulang karakter pada item martabak sebanyak 2 kali')\n",
    "doubles = [c * 2 for c in 'martabak']\n",
    "print( doubles)\n",
    "print('Mengulang karakter pada item martabak sebanyak 2 kali')\n",
    "double = [c * 2 for c in '88225875262']\n",
    "print( double)"
   ]
  }
 ],
 "metadata": {
  "kernelspec": {
   "display_name": "Python 3 (ipykernel)",
   "language": "python",
   "name": "python3"
  },
  "language_info": {
   "codemirror_mode": {
    "name": "ipython",
    "version": 3
   },
   "file_extension": ".py",
   "mimetype": "text/x-python",
   "name": "python",
   "nbconvert_exporter": "python",
   "pygments_lexer": "ipython3",
   "version": "3.12.4"
  }
 },
 "nbformat": 4,
 "nbformat_minor": 5
}
