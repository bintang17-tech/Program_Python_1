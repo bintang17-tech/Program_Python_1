{
 "cells": [
  {
   "cell_type": "markdown",
   "id": "15238877-5017-4fb3-8763-fb12784b0106",
   "metadata": {},
   "source": [
    "# Type Tuple"
   ]
  },
  {
   "cell_type": "code",
   "execution_count": 2,
   "id": "273c8514-edbf-4034-92fb-1b75c4978db8",
   "metadata": {},
   "outputs": [
    {
     "name": "stdout",
     "output_type": "stream",
     "text": [
      "<class 'tuple'>\n",
      "('satu', 'dua', 'tiga', 'empat', 'lima', 'enam', 'tujuh', 'delapan', 'sembilan')\n",
      "satu\n",
      "sembilan\n"
     ]
    }
   ],
   "source": [
    "# TYpe tuple adalah list yg tidak dapat dirubah\n",
    "#tuple sebenarnya mirip dengan array konstan\n",
    "#bentuk umum tuple menggunakan tanda kurung :nama_tuple = (nilai1,nilai2,nilai3,...)\n",
    "\n",
    "#Contoh:\n",
    "angka = ('satu', 'dua','tiga','empat','lima','enam','tujuh','delapan','sembilan')\n",
    "print(type(angka))\n",
    "\n",
    "#menampilkan angka\n",
    "print(angka)\n",
    "print(angka[0])\n",
    "print(angka[-1])"
   ]
  },
  {
   "cell_type": "code",
   "execution_count": 25,
   "id": "68ecc223-eaa4-4aad-9520-b650f594de2c",
   "metadata": {},
   "outputs": [
    {
     "name": "stdout",
     "output_type": "stream",
     "text": [
      "(1, 2, 3, 4, 5, 6, 7, 8, 9, 0)\n",
      "10\n",
      "(1, 2, 3, 4, 5, 6, 7, 8, 9, 0, 10, 11)\n",
      "1\n",
      "3\n",
      "1\n",
      "('Bintang', 17, (10, 3, 2022))\n",
      "17\n",
      "(10, 3, 2022)\n"
     ]
    }
   ],
   "source": [
    "# Contoh operasi Tuple\n",
    "T=(1,2,3,4,5,6,7,8,9,0) #Terdapat 10 item pada tuple\n",
    "print(T)#menampilkan item pada tuple\n",
    "\n",
    "print(len(T))#Menampilkan banyaknya item pada tuple atau length\n",
    "\n",
    "print(T +(10,11))#penggabungan tuple baru\n",
    "\n",
    "print(T[0]) #menampilkan item pada indeks 0\n",
    "\n",
    "print(T.index(4))#menampilkan item pada indeks 4\n",
    "\n",
    "print(T.count(1))#menghitung item bernilai 1 pada tuple\n",
    "\n",
    "T1=('Bintang',17,(10, 3,2022))\n",
    "print(T1)\n",
    "print(T1[1])\n",
    "print(T1[2])"
   ]
  },
  {
   "cell_type": "code",
   "execution_count": 61,
   "id": "2d5f01e1-e94e-438b-addf-95a60e7f65f3",
   "metadata": {},
   "outputs": [
    {
     "name": "stdout",
     "output_type": "stream",
     "text": [
      "('bakso', 'soto', 'sate', 'martabak', 'kerak telor', 'donat', 'pukis')\n",
      "<class 'tuple'>\n",
      "soto\n",
      "donat\n"
     ]
    }
   ],
   "source": [
    "#Bentuk umum tuple menggunakan tanpa tanda kurung : nama_tuple= nilai1,nilai2,....\n",
    "menu ='bakso', 'soto','sate','martabak', \\\n",
    "'kerak telor','donat','pukis'#backslice digunakan untuk menyambungkan antar tuple agar tidak terlalu panjang\n",
    "print(menu)#menampilkan item pada tuple\n",
    "print(type(menu))\n",
    "\n",
    "print(menu[1])\n",
    "print(menu[5])\n",
    "\n",
    "\n",
    "#Tuple tidak dapat ditambahkan, dirubah,maupun dihapus dikarenakan bersifat konstan"
   ]
  },
  {
   "cell_type": "code",
   "execution_count": 65,
   "id": "4bcbde61-87d9-4a44-ab5c-1b9508c010fb",
   "metadata": {},
   "outputs": [
    {
     "name": "stdout",
     "output_type": "stream",
     "text": [
      "('bakso', 'soto', 'sate', 'martabak', 'kerak telor', 'donat', 'pukis')\n",
      "True\n",
      "False\n"
     ]
    }
   ],
   "source": [
    "#Tuple menggunakan \"in digunakan untuk  memeriksa apakah termasuk item pada tuple atau tidak\"\n",
    "menu ='bakso', 'soto','sate','martabak', 'kerak telor','donat','pukis'\n",
    "print(menu)#menampilkan item pada tuple\n",
    "\n",
    "print('bakso'in  menu)\n",
    "print('coto'in menu)\n"
   ]
  },
  {
   "cell_type": "markdown",
   "id": "4c07c490-03b0-489c-b469-9a8a1f585822",
   "metadata": {},
   "source": [
    "# Latihan Tuple"
   ]
  },
  {
   "cell_type": "markdown",
   "id": "fdd070e8-2d55-4574-b479-8694383892df",
   "metadata": {},
   "source": [
    "# Mengubah"
   ]
  },
  {
   "cell_type": "code",
   "execution_count": 145,
   "id": "e3da5436-29c0-428e-b335-f30f330f305f",
   "metadata": {},
   "outputs": [
    {
     "name": "stdout",
     "output_type": "stream",
     "text": [
      "<class 'tuple'>\n"
     ]
    },
    {
     "ename": "TypeError",
     "evalue": "'tuple' object does not support item assignment",
     "output_type": "error",
     "traceback": [
      "\u001b[1;31m---------------------------------------------------------------------------\u001b[0m",
      "\u001b[1;31mTypeError\u001b[0m                                 Traceback (most recent call last)",
      "Cell \u001b[1;32mIn[145], line 7\u001b[0m\n\u001b[0;32m      3\u001b[0m prima \u001b[38;5;241m=\u001b[39m \u001b[38;5;241m2\u001b[39m,\u001b[38;5;241m3\u001b[39m,\u001b[38;5;241m5\u001b[39m,\u001b[38;5;241m7\u001b[39m,\u001b[38;5;241m11\u001b[39m,\u001b[38;5;241m13\u001b[39m,\u001b[38;5;241m17\u001b[39m,\u001b[38;5;241m19\u001b[39m\n\u001b[0;32m      5\u001b[0m \u001b[38;5;28mprint\u001b[39m(\u001b[38;5;28mtype\u001b[39m(prima))\n\u001b[1;32m----> 7\u001b[0m prima[\u001b[38;5;241m1\u001b[39m]\u001b[38;5;241m=\u001b[39m\u001b[38;5;241m0\u001b[39m\n",
      "\u001b[1;31mTypeError\u001b[0m: 'tuple' object does not support item assignment"
     ]
    }
   ],
   "source": [
    "#Tuple tidak dapat ditambahkan, dirubah,maupun dihapus dikarenakan bersifat konstan\n",
    "prima = [2,3,5,7,11,13,17,19]\n",
    "prima = 2,3,5,7,11,13,17,19\n",
    "\n",
    "print(type(prima))\n",
    "\n",
    "prima[1]=0\n"
   ]
  },
  {
   "cell_type": "markdown",
   "id": "7bc06418-c70f-4e0c-a044-89e46048e50b",
   "metadata": {},
   "source": [
    "# Menambah"
   ]
  },
  {
   "cell_type": "code",
   "execution_count": 143,
   "id": "18b60e72-43f0-4aa2-bf53-6683a6f7a366",
   "metadata": {},
   "outputs": [
    {
     "ename": "AttributeError",
     "evalue": "'tuple' object has no attribute 'append'",
     "output_type": "error",
     "traceback": [
      "\u001b[1;31m---------------------------------------------------------------------------\u001b[0m",
      "\u001b[1;31mAttributeError\u001b[0m                            Traceback (most recent call last)",
      "Cell \u001b[1;32mIn[143], line 4\u001b[0m\n\u001b[0;32m      1\u001b[0m \u001b[38;5;66;03m#Tuple tidak dapat ditambahkan, dirubah,maupun dihapus dikarenakan bersifat konstan\u001b[39;00m\n\u001b[0;32m      2\u001b[0m prima \u001b[38;5;241m=\u001b[39m \u001b[38;5;241m2\u001b[39m,\u001b[38;5;241m3\u001b[39m,\u001b[38;5;241m5\u001b[39m,\u001b[38;5;241m7\u001b[39m,\u001b[38;5;241m11\u001b[39m,\u001b[38;5;241m13\u001b[39m,\u001b[38;5;241m17\u001b[39m,\u001b[38;5;241m19\u001b[39m\n\u001b[1;32m----> 4\u001b[0m prima\u001b[38;5;241m.\u001b[39mappend(\u001b[38;5;241m2\u001b[39m)\n",
      "\u001b[1;31mAttributeError\u001b[0m: 'tuple' object has no attribute 'append'"
     ]
    }
   ],
   "source": [
    "#Tuple tidak dapat ditambahkan, dirubah,maupun dihapus dikarenakan bersifat konstan\n",
    "prima = 2,3,5,7,11,13,17,19\n",
    "\n",
    "prima.append(2)\n"
   ]
  },
  {
   "cell_type": "code",
   "execution_count": 141,
   "id": "a811bdfc-7d24-404f-8e67-2e1c5f93afe3",
   "metadata": {},
   "outputs": [
    {
     "ename": "AttributeError",
     "evalue": "'tuple' object has no attribute 'extend'",
     "output_type": "error",
     "traceback": [
      "\u001b[1;31m---------------------------------------------------------------------------\u001b[0m",
      "\u001b[1;31mAttributeError\u001b[0m                            Traceback (most recent call last)",
      "Cell \u001b[1;32mIn[141], line 4\u001b[0m\n\u001b[0;32m      1\u001b[0m \u001b[38;5;66;03m#Tuple tidak dapat ditambahkan, dirubah,maupun dihapus dikarenakan bersifat konstan\u001b[39;00m\n\u001b[0;32m      2\u001b[0m prima \u001b[38;5;241m=\u001b[39m \u001b[38;5;241m2\u001b[39m,\u001b[38;5;241m3\u001b[39m,\u001b[38;5;241m5\u001b[39m,\u001b[38;5;241m7\u001b[39m,\u001b[38;5;241m11\u001b[39m,\u001b[38;5;241m13\u001b[39m,\u001b[38;5;241m17\u001b[39m,\u001b[38;5;241m19\u001b[39m\n\u001b[1;32m----> 4\u001b[0m prima\u001b[38;5;241m.\u001b[39mextend[\u001b[38;5;241m0\u001b[39m,\u001b[38;5;241m4\u001b[39m]\n",
      "\u001b[1;31mAttributeError\u001b[0m: 'tuple' object has no attribute 'extend'"
     ]
    }
   ],
   "source": [
    "#Tuple tidak dapat ditambahkan, dirubah,maupun dihapus dikarenakan bersifat konstan\n",
    "prima = 2,3,5,7,11,13,17,19\n",
    "\n",
    "prima.extend[0,4]\n"
   ]
  },
  {
   "cell_type": "code",
   "execution_count": 139,
   "id": "3cef1a30-4620-415b-88c8-ca0a2d52089a",
   "metadata": {},
   "outputs": [
    {
     "ename": "AttributeError",
     "evalue": "'tuple' object has no attribute 'insert'",
     "output_type": "error",
     "traceback": [
      "\u001b[1;31m---------------------------------------------------------------------------\u001b[0m",
      "\u001b[1;31mAttributeError\u001b[0m                            Traceback (most recent call last)",
      "Cell \u001b[1;32mIn[139], line 4\u001b[0m\n\u001b[0;32m      1\u001b[0m \u001b[38;5;66;03m#Tuple tidak dapat ditambahkan, dirubah,maupun dihapus dikarenakan bersifat konstan\u001b[39;00m\n\u001b[0;32m      2\u001b[0m prima \u001b[38;5;241m=\u001b[39m \u001b[38;5;241m2\u001b[39m,\u001b[38;5;241m3\u001b[39m,\u001b[38;5;241m5\u001b[39m,\u001b[38;5;241m7\u001b[39m,\u001b[38;5;241m11\u001b[39m,\u001b[38;5;241m13\u001b[39m,\u001b[38;5;241m17\u001b[39m,\u001b[38;5;241m19\u001b[39m\n\u001b[1;32m----> 4\u001b[0m prima\u001b[38;5;241m.\u001b[39minsert(\u001b[38;5;241m1\u001b[39m)\n",
      "\u001b[1;31mAttributeError\u001b[0m: 'tuple' object has no attribute 'insert'"
     ]
    }
   ],
   "source": [
    "#Tuple tidak dapat ditambahkan, dirubah,maupun dihapus dikarenakan bersifat konstan\n",
    "prima = 2,3,5,7,11,13,17,19\n",
    "\n",
    "prima.insert(1)\n"
   ]
  },
  {
   "cell_type": "markdown",
   "id": "ba821f65-f721-48d7-8052-7dbe4992816b",
   "metadata": {},
   "source": [
    "# Menghapus"
   ]
  },
  {
   "cell_type": "code",
   "execution_count": 79,
   "id": "f2b814e4-02b2-41b1-8991-289e9250b469",
   "metadata": {},
   "outputs": [
    {
     "name": "stdout",
     "output_type": "stream",
     "text": [
      "(2, 3, 5, 7, 11, 13, 17, 19)\n"
     ]
    },
    {
     "ename": "AttributeError",
     "evalue": "'tuple' object has no attribute 'remove'",
     "output_type": "error",
     "traceback": [
      "\u001b[1;31m---------------------------------------------------------------------------\u001b[0m",
      "\u001b[1;31mAttributeError\u001b[0m                            Traceback (most recent call last)",
      "Cell \u001b[1;32mIn[79], line 5\u001b[0m\n\u001b[0;32m      2\u001b[0m prima \u001b[38;5;241m=\u001b[39m \u001b[38;5;241m2\u001b[39m,\u001b[38;5;241m3\u001b[39m,\u001b[38;5;241m5\u001b[39m,\u001b[38;5;241m7\u001b[39m,\u001b[38;5;241m11\u001b[39m,\u001b[38;5;241m13\u001b[39m,\u001b[38;5;241m17\u001b[39m,\u001b[38;5;241m19\u001b[39m\n\u001b[0;32m      3\u001b[0m \u001b[38;5;28mprint\u001b[39m(prima)\u001b[38;5;66;03m#menampilkan item pada tuple\u001b[39;00m\n\u001b[1;32m----> 5\u001b[0m prima\u001b[38;5;241m.\u001b[39mremove(\u001b[38;5;241m5\u001b[39m)\n",
      "\u001b[1;31mAttributeError\u001b[0m: 'tuple' object has no attribute 'remove'"
     ]
    }
   ],
   "source": [
    "#Tuple tidak dapat ditambahkan, dirubah,maupun dihapus dikarenakan bersifat konstan\n",
    "prima = 2,3,5,7,11,13,17,19\n",
    "\n",
    "prima.remove(5)"
   ]
  },
  {
   "cell_type": "code",
   "execution_count": 133,
   "id": "2aa3535d-da13-44a6-a310-9b36366b700c",
   "metadata": {},
   "outputs": [
    {
     "ename": "TypeError",
     "evalue": "'tuple' object doesn't support item deletion",
     "output_type": "error",
     "traceback": [
      "\u001b[1;31m---------------------------------------------------------------------------\u001b[0m",
      "\u001b[1;31mTypeError\u001b[0m                                 Traceback (most recent call last)",
      "Cell \u001b[1;32mIn[133], line 4\u001b[0m\n\u001b[0;32m      1\u001b[0m \u001b[38;5;66;03m#Tuple tidak dapat ditambahkan, dirubah,maupun dihapus dikarenakan bersifat konstan\u001b[39;00m\n\u001b[0;32m      2\u001b[0m prima \u001b[38;5;241m=\u001b[39m \u001b[38;5;241m2\u001b[39m,\u001b[38;5;241m3\u001b[39m,\u001b[38;5;241m5\u001b[39m,\u001b[38;5;241m7\u001b[39m,\u001b[38;5;241m11\u001b[39m,\u001b[38;5;241m13\u001b[39m,\u001b[38;5;241m17\u001b[39m,\u001b[38;5;241m19\u001b[39m\n\u001b[1;32m----> 4\u001b[0m \u001b[38;5;28;01mdel\u001b[39;00m prima[\u001b[38;5;241m2\u001b[39m]\n",
      "\u001b[1;31mTypeError\u001b[0m: 'tuple' object doesn't support item deletion"
     ]
    }
   ],
   "source": [
    "#Tuple tidak dapat ditambahkan, dirubah,maupun dihapus dikarenakan bersifat konstan\n",
    "prima = 2,3,5,7,11,13,17,19\n",
    "\n",
    "del prima[2]"
   ]
  },
  {
   "cell_type": "markdown",
   "id": "f3103200-d1df-4e24-8419-f1651c50db1e",
   "metadata": {},
   "source": [
    "# Index"
   ]
  },
  {
   "cell_type": "code",
   "execution_count": 114,
   "id": "94608c8e-7e3a-4ac5-95f7-53ae35ddb2d0",
   "metadata": {},
   "outputs": [
    {
     "name": "stdout",
     "output_type": "stream",
     "text": [
      "2\n",
      "3\n",
      "5\n",
      "7\n",
      "11\n"
     ]
    }
   ],
   "source": [
    "#Tuple Index\n",
    "prima = 2,3,5,7,11,13,17,19\n",
    "\n",
    "\n",
    "print(prima[0])\n",
    "print(prima[1])\n",
    "print(prima[2])\n",
    "print(prima[3])\n",
    "print(prima[4])"
   ]
  },
  {
   "cell_type": "markdown",
   "id": "c5c4a131-36fb-41ea-8516-183e65bbd630",
   "metadata": {},
   "source": [
    "# Operator IN"
   ]
  },
  {
   "cell_type": "code",
   "execution_count": 137,
   "id": "9b009a06-e74c-4b63-ac13-8c0f6bdf81f8",
   "metadata": {},
   "outputs": [
    {
     "name": "stdout",
     "output_type": "stream",
     "text": [
      "False\n",
      "True\n",
      "False\n",
      "True\n",
      "False\n",
      "False\n",
      "True\n",
      "False\n"
     ]
    }
   ],
   "source": [
    "#Operator IN pada tuple\n",
    "prima = 2,3,5,7,11,13,17,19\n",
    "\n",
    "print(4 in prima)\n",
    "print(19 in prima)\n",
    "print(1 in prima)\n",
    "print(5 in prima)\n",
    "print(20 in prima)\n",
    "print(15 in prima)\n",
    "print(2 in prima)\n",
    "print(9 in prima)"
   ]
  },
  {
   "cell_type": "code",
   "execution_count": null,
   "id": "b65322e8-cd64-4354-a636-93e0bc5eb91c",
   "metadata": {},
   "outputs": [],
   "source": []
  }
 ],
 "metadata": {
  "kernelspec": {
   "display_name": "Python 3 (ipykernel)",
   "language": "python",
   "name": "python3"
  },
  "language_info": {
   "codemirror_mode": {
    "name": "ipython",
    "version": 3
   },
   "file_extension": ".py",
   "mimetype": "text/x-python",
   "name": "python",
   "nbconvert_exporter": "python",
   "pygments_lexer": "ipython3",
   "version": "3.12.4"
  }
 },
 "nbformat": 4,
 "nbformat_minor": 5
}
