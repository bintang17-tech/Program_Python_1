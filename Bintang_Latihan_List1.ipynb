{
 "cells": [
  {
   "cell_type": "code",
   "execution_count": 2,
   "id": "d68c872b-93fb-417f-9aba-3c67feea9ec2",
   "metadata": {},
   "outputs": [
    {
     "name": "stdout",
     "output_type": "stream",
     "text": [
      "[2, 3, 5, 7, 11]\n",
      "['Serang', 'Cikarang', 'Bekasi', 'Jawa barat', 'Indonesia']\n",
      "Jumlah elemen Prima\n",
      "5\n",
      "Jumlah elemen Daerah\n",
      "5\n",
      "\n",
      "Index\n",
      "3\n",
      "7\n",
      "11\n",
      "Bekasi\n",
      "Cikarang\n",
      "Serang\n",
      "\n",
      "Slicing\n",
      "[2, 3]\n",
      "['Serang', 'Cikarang']\n",
      "[5, 7, 11]\n",
      "['Serang']\n",
      "[7, 11]\n",
      "['Cikarang', 'Bekasi', 'Jawa barat', 'Indonesia']\n",
      "\n",
      "Gabung\n",
      "Sebelum digabung\n",
      "[2, 3, 5, 7, 11]\n",
      "Setelah digabung\n",
      "[2, 3, 5, 7, 11, 13, 17, 19, 23, 29]\n",
      "Sebelum digabung\n",
      "['Serang', 'Cikarang', 'Bekasi', 'Jawa barat', 'Indonesia']\n",
      "Setelah digabung\n",
      "['Serang', 'Cikarang', 'Bekasi', 'Jawa barat', 'Indonesia', 'Jakarta', 'Depok', 'Bogor', 'Tangeraang']\n"
     ]
    }
   ],
   "source": [
    "Prima = [2,3,5,7,11]\n",
    "List = ['Serang', 'Cikarang', 'Bekasi','Jawa barat','Indonesia']\n",
    "print(Prima)\n",
    "print(List)\n",
    "print('Jumlah elemen Prima')\n",
    "print(len(Prima))\n",
    "print('Jumlah elemen Daerah')\n",
    "print(len(List))\n",
    "print('')\n",
    "print('Index')\n",
    "print(Prima[1])\n",
    "print(Prima[3])\n",
    "print(Prima[-1])\n",
    "print(List[2])\n",
    "print(List[-4])\n",
    "print(List[0])\n",
    "print('')\n",
    "print('Slicing')\n",
    "print(Prima[:-3])\n",
    "print(List[:-3])\n",
    "print(Prima[2:])\n",
    "print(List[:1])\n",
    "print(Prima[-2:])\n",
    "print(List[1:])\n",
    "\n",
    "print('')\n",
    "print('Gabung')\n",
    "print('Sebelum digabung')\n",
    "print(Prima)\n",
    "print('Setelah digabung')\n",
    "print(Prima + [13,17,19,23,29])\n",
    "print('Sebelum digabung')\n",
    "print(List)\n",
    "print('Setelah digabung')\n",
    "print(List+['Jakarta', 'Depok', 'Bogor', 'Tangeraang'])"
   ]
  },
  {
   "cell_type": "code",
   "execution_count": null,
   "id": "32cea558-c8f8-4bac-9193-fbb2c054b2a6",
   "metadata": {},
   "outputs": [],
   "source": []
  }
 ],
 "metadata": {
  "kernelspec": {
   "display_name": "Python 3 (ipykernel)",
   "language": "python",
   "name": "python3"
  },
  "language_info": {
   "codemirror_mode": {
    "name": "ipython",
    "version": 3
   },
   "file_extension": ".py",
   "mimetype": "text/x-python",
   "name": "python",
   "nbconvert_exporter": "python",
   "pygments_lexer": "ipython3",
   "version": "3.12.4"
  }
 },
 "nbformat": 4,
 "nbformat_minor": 5
}
