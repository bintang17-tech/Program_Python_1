{
 "cells": [
  {
   "cell_type": "markdown",
   "id": "de011ad3-c04e-4caf-8597-4c648419fd87",
   "metadata": {},
   "source": [
    "# CATATAN"
   ]
  },
  {
   "cell_type": "markdown",
   "id": "23969bc7-217a-4b84-bbbf-7727b8e2d51c",
   "metadata": {},
   "source": [
    "# INDEX,SCLICING,MERGE"
   ]
  },
  {
   "cell_type": "code",
   "execution_count": 39,
   "id": "bf2ec875-0433-470a-a75c-1a2f66582328",
   "metadata": {},
   "outputs": [
    {
     "name": "stdout",
     "output_type": "stream",
     "text": [
      "Index list\n",
      "10\n",
      "30\n",
      "50\n",
      "50\n",
      "40\n",
      "10\n",
      "Banyaknya Elemen\n",
      "5\n",
      "Sebelum dipotong\n",
      "[10, 20, 30, 40, 50]\n",
      "setelah dipotong\n",
      "[10, 20, 30, 40]\n",
      "[10]\n",
      "[50]\n",
      "[20, 30, 40, 50]\n"
     ]
    }
   ],
   "source": [
    "#dalam python mirip dengan array normal\n",
    "#dalam list elemen tidak diindeks berdasarkan kunci(key)tertentu\n",
    "#indeks bilangan selalu diawali dari nilai nol(0)\n",
    "#Indeks negatif ditentukan dari arah kanan, dan dimulai dari -1\n",
    "#bentuk umum : nama_list =[nilai1,nila2,nilai3]\n",
    "#contoh\n",
    "list = [10,20,30,40,50]\n",
    "#Index elemen didalam list berdasarkan posisi\n",
    "print('Index list')\n",
    "print(list[0])\n",
    "print(list[2])\n",
    "print(list[4])\n",
    "print(list[-1])\n",
    "print(list[-2])\n",
    "print(list[-5])\n",
    "print('Banyaknya Elemen')\n",
    "print(len(list))\n",
    "\n",
    "#Slicing (memotong) elemen di dalam list\n",
    "print('Sebelum dipotong')\n",
    "print(list)\n",
    "print('setelah dipotong')\n",
    "print(list[:-1])#Memotong elemen pertama dari kanan\n",
    "print(list[:1])#Memotong elemen kedua dari kiri\n",
    "print(list[-1:])#Memotong elemen sampai elemen ke -1\n",
    "print(list[1:])#Memotong elemen pertama dikiri"
   ]
  },
  {
   "cell_type": "code",
   "execution_count": 25,
   "id": "dd73c32c-2fd4-4c92-a19a-28adfcd5410c",
   "metadata": {},
   "outputs": [
    {
     "name": "stdout",
     "output_type": "stream",
     "text": [
      "Index list\n",
      "5\n",
      "Bintang\n",
      "Ardiansyah\n",
      "Mekatronika\n",
      "BISA!\n",
      "BISA!\n",
      "Bintang\n"
     ]
    }
   ],
   "source": [
    "#dalam python mirip dengan array normal\n",
    "#dalam list elemen tidak diindeks berdasarkan kunci(key)tertentu\n",
    "#indeks bilangan selalu diawali dari nilai nol(0)\n",
    "#Indeks negatif ditentukan dari arah kanan, dan dimulai dari -1\n",
    "#bentuk umum : nama_list =[nilai1,nila2,nilai3]\n",
    "#contoh\n",
    "list = ['Bintang','Ardiansyah','Mekatronika','2024','BISA!']\n",
    "#Index elemen didalam list berdasarkan posisi\n",
    "print('Index list')\n",
    "print(len(list))\n",
    "print(list[0])\n",
    "print(list[-4])\n",
    "print(list[2])\n",
    "print(list[-1])\n",
    "print(list[4])\n",
    "print(list[-5])"
   ]
  },
  {
   "cell_type": "code",
   "execution_count": 41,
   "id": "a2366fd8-9c78-4e5c-9b69-b74042c24829",
   "metadata": {},
   "outputs": [
    {
     "name": "stdout",
     "output_type": "stream",
     "text": [
      "sebelum digabung\n",
      "[10, 20, 30, 40, 50]\n",
      "setelah digabungkan\n",
      "[10, 20, 30, 40, 50, 200, 300, 400]\n"
     ]
    }
   ],
   "source": [
    "List=[10,20,30,40,50]\n",
    "#penggabungan elemen list dan membuat daftar list baru\n",
    "print('sebelum digabung')\n",
    "print(list)\n",
    "print('setelah digabungkan')\n",
    "print(list + [200,300,400])"
   ]
  },
  {
   "cell_type": "code",
   "execution_count": 123,
   "id": "b9649ab7-56fa-4351-9cd4-94a28503a75e",
   "metadata": {},
   "outputs": [
    {
     "name": "stdout",
     "output_type": "stream",
     "text": [
      "[2, 3, 5, 7, 11]\n",
      "['Serang', 'Cikarang', 'Bekasi', 'Jawa barat', 'Indonesia']\n",
      "Jumlah elemen Prima\n",
      "5\n",
      "Jumlah elemen Daerah\n",
      "5\n",
      "\n",
      "Index\n",
      "3\n",
      "7\n",
      "11\n",
      "Bekasi\n",
      "Cikarang\n",
      "Serang\n",
      "\n",
      "Slicing\n",
      "[2, 3]\n",
      "['Serang', 'Cikarang']\n",
      "[5, 7, 11]\n",
      "['Serang']\n",
      "[7, 11]\n",
      "['Cikarang', 'Bekasi', 'Jawa barat', 'Indonesia']\n",
      "\n",
      "Gabung\n",
      "Sebelum digabung\n",
      "[2, 3, 5, 7, 11]\n",
      "Setelah digabung\n",
      "[2, 3, 5, 7, 11, 13, 17, 19, 23, 29]\n",
      "Sebelum digabung\n",
      "['Serang', 'Cikarang', 'Bekasi', 'Jawa barat', 'Indonesia']\n",
      "Setelah digabung\n",
      "['Serang', 'Cikarang', 'Bekasi', 'Jawa barat', 'Indonesia', 'Jakarta', 'Depok', 'Bogor', 'Tangeraang']\n"
     ]
    }
   ],
   "source": [
    "Prima = [2,3,5,7,11]\n",
    "List = ['Serang', 'Cikarang', 'Bekasi','Jawa barat','Indonesia']\n",
    "print(Prima)\n",
    "print(List)\n",
    "print('Jumlah elemen Prima')\n",
    "print(len(Prima))\n",
    "print('Jumlah elemen Daerah')\n",
    "print(len(List))\n",
    "print('')\n",
    "print('Index')\n",
    "print(Prima[1])\n",
    "print(Prima[3])\n",
    "print(Prima[-1])\n",
    "print(List[2])\n",
    "print(List[-4])\n",
    "print(List[0])\n",
    "print('')\n",
    "print('Slicing')\n",
    "print(Prima[:-3])\n",
    "print(List[:-3])\n",
    "print(Prima[2:])\n",
    "print(List[:1])\n",
    "print(Prima[-2:])\n",
    "print(List[1:])\n",
    "\n",
    "print('')\n",
    "print('Gabung')\n",
    "print('Sebelum digabung')\n",
    "print(Prima)\n",
    "print('Setelah digabung')\n",
    "print(Prima + [13,17,19,23,29])\n",
    "print('Sebelum digabung')\n",
    "print(List)\n",
    "print('Setelah digabung')\n",
    "print(List+['Jakarta', 'Depok', 'Bogor', 'Tangeraang'])"
   ]
  },
  {
   "cell_type": "markdown",
   "id": "ae53ea70-f6c7-4a8f-b25a-2813846330b6",
   "metadata": {},
   "source": [
    "# Array Multi Dimensional"
   ]
  },
  {
   "cell_type": "code",
   "execution_count": 145,
   "id": "121c7abb-9483-4279-8184-685423e62476",
   "metadata": {},
   "outputs": [
    {
     "name": "stdout",
     "output_type": "stream",
     "text": [
      "SD SERANG 01\n",
      "SMP Negeri 1 Cikarang Selatan\n",
      "SMK Negeri 1 Cikarang Selatan\n",
      "Politeknik Takumi\n"
     ]
    }
   ],
   "source": [
    "list = ['Bintang', 'Ardiansyah', 10, ['SD SERANG 01','SMP Negeri 1 Cikarang Selatan','SMK Negeri 1 Cikarang Selatan', 'Politeknik Takumi'], '088225875262']\n",
    "print(list[3][0])\n",
    "print(list[3][1])\n",
    "print(list[3][-2])\n",
    "print(list[3][-1])\n"
   ]
  },
  {
   "cell_type": "markdown",
   "id": "654e72b7-1475-4d5f-8f35-8ca1662da12a",
   "metadata": {},
   "source": [
    "# Bentuk Matrik"
   ]
  },
  {
   "cell_type": "code",
   "execution_count": 176,
   "id": "022d5e7e-05a0-4130-a6e9-40d1f6653758",
   "metadata": {},
   "outputs": [
    {
     "name": "stdout",
     "output_type": "stream",
     "text": [
      "Matriks 3x3\n",
      "[[1, 2, 3], [4, 5, 6], [7, 8, 9]]\n",
      "Mengambil baris ke-2:\n",
      "[7, 8, 9]\n",
      "Mengambil baris ke-2, lalu didapatkan item ke-2 didalam baris\n",
      "6\n",
      "2\n",
      "4\n",
      "8\n",
      "[ 2 , 4 , 8 ]\n"
     ]
    }
   ],
   "source": [
    "M=[[1,2,3],[4,5,6],[7,8,9]]\n",
    "print('Matriks 3x3')\n",
    "print(M)#menampilkan matriks 3x3\n",
    "print('Mengambil baris ke-2:')\n",
    "print(M[2])\n",
    "print('Mengambil baris ke-2, lalu didapatkan item ke-2 didalam baris')\n",
    "print(M[1][2])\n",
    "print(M[0][1\n",
    "      ])\n",
    "print(M[1][0])\n",
    "print(M[2][1])\n",
    "print('[',M[0][1],',',M[1][0],',',M[2][1],']')\n"
   ]
  },
  {
   "cell_type": "markdown",
   "id": "2330ae8b-fb1d-43a7-b5d0-25497f6a771c",
   "metadata": {},
   "source": [
    "# List Comprehesion Expresion"
   ]
  },
  {
   "cell_type": "code",
   "execution_count": 303,
   "id": "1466ebbb-f6ee-481b-859c-3702e2e9e74f",
   "metadata": {},
   "outputs": [
    {
     "name": "stdout",
     "output_type": "stream",
     "text": [
      "Hasil Penambahan 2 untuk setiap item dikolom 1\n",
      "[3, 6, 9, 12]\n",
      "Hasil Penambahan 1 untuk setiap item dikolom 2\n",
      "[3, 6, 9, 12]\n",
      "Hasil Pengurangan 3 untuk setiap item dikolom 3\n",
      "[0, 3, 6, 9]\n",
      "[2, 8]\n",
      "[4, 10]\n",
      "[3, 9]\n",
      "[1, 5, 9, 15]\n"
     ]
    }
   ],
   "source": [
    "M=[[1,2,3,4],[4,5,6,4],[7,8,9,4],[10,11,12,15]]\n",
    "print('Hasil Penambahan 2 untuk setiap item dikolom 1')\n",
    "M2 = [row[0]+2 for row in M]\n",
    "print(M2)\n",
    "M1 = [row[1]+1 for row in M]\n",
    "print('Hasil Penambahan 1 untuk setiap item dikolom 2')\n",
    "print(M1)\n",
    "print('Hasil Pengurangan 3 untuk setiap item dikolom 3')\n",
    "M2 = [row[2]-3 for row in M]\n",
    "print(M2)\n",
    "\n",
    "#menyaring item pada matrix\n",
    "#menyaring item ganji\n",
    "M3 = [row[1]for row in M if row [1]%2==0]\n",
    "print(M3)\n",
    "M4 = [row[0]for row in M if row [0]%2==0]\n",
    "print(M4)\n",
    "M5 = [row[2]for row in M if row [2]%2==1]\n",
    "print(M5)\n",
    "\n",
    "#mengumpulkan diagonal dari matriks\n",
    "diag=[M[i][i]for i in [0,1,2,3]]\n",
    "print(diag)\n"
   ]
  },
  {
   "cell_type": "code",
   "execution_count": 283,
   "id": "28c905f0-b41f-46d8-99a8-589c664d4779",
   "metadata": {},
   "outputs": [
    {
     "name": "stdout",
     "output_type": "stream",
     "text": [
      "elemen awal\n",
      "[2, 3, 5, 7, 11]\n",
      "setelah append:\n",
      "[2, 3, 5, 7, 11, 13]\n",
      "setelah insert:\n",
      "[17, 2, 3, 5, 7, 11, 13]\n",
      "setelah extend():\n",
      "[17, 2, 3, 5, 7, 11, 13, '19', '23']\n",
      "elemen awal\n",
      "['Serang', 'Cikarang', 'Bekasi', 'Jawa barat', 'Indonesia']\n",
      "setelah append:\n",
      "['Serang', 'Cikarang', 'Bekasi', 'Jawa barat', 'Indonesia', 'Jakarta']\n",
      "setelah insert:\n",
      "['Serang', 'Depok', 'Cikarang', 'Bekasi', 'Jawa barat', 'Indonesia', 'Jakarta']\n",
      "setelah extend():\n",
      "['Serang', 'Depok', 'Cikarang', 'Bekasi', 'Jawa barat', 'Indonesia', 'Jakarta', 'Bandung', 'Cianjur']\n"
     ]
    }
   ],
   "source": [
    "#menambahkan element tunggal\n",
    "#Metode Append\n",
    "#Metode Insert\n",
    "#Metode Extend\n",
    "\n",
    "Prima = [2,3,5,7,11]\n",
    "List = ['Serang', 'Cikarang', 'Bekasi','Jawa barat','Indonesia']\n",
    "print('elemen awal')\n",
    "print(Prima)\n",
    "\n",
    "Prima.append(13)\n",
    "print('setelah append:')\n",
    "print(Prima)\n",
    "\n",
    "Prima.insert(0,17)\n",
    "print('setelah insert:')\n",
    "print(Prima)\n",
    "\n",
    "Prima.extend(['19','23'])\n",
    "print('setelah extend():')\n",
    "print(Prima)\n",
    "\n",
    "print('elemen awal')\n",
    "print(List)\n",
    "\n",
    "List.append('Jakarta')\n",
    "print('setelah append:')\n",
    "print(List)\n",
    "\n",
    "List.insert(1,'Depok')\n",
    "print('setelah insert:')\n",
    "print(List)\n",
    "\n",
    "List.extend(['Bandung','Cianjur'])\n",
    "print('setelah extend():')\n",
    "print(List)\n",
    "\n"
   ]
  },
  {
   "cell_type": "code",
   "execution_count": null,
   "id": "f65f3266-b2e5-45ca-892f-e2c01834e525",
   "metadata": {},
   "outputs": [],
   "source": []
  }
 ],
 "metadata": {
  "kernelspec": {
   "display_name": "Python 3 (ipykernel)",
   "language": "python",
   "name": "python3"
  },
  "language_info": {
   "codemirror_mode": {
    "name": "ipython",
    "version": 3
   },
   "file_extension": ".py",
   "mimetype": "text/x-python",
   "name": "python",
   "nbconvert_exporter": "python",
   "pygments_lexer": "ipython3",
   "version": "3.12.4"
  }
 },
 "nbformat": 4,
 "nbformat_minor": 5
}
