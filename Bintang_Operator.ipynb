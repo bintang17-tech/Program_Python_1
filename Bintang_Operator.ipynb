{
 "cells": [
  {
   "cell_type": "markdown",
   "id": "b15ec127-14c9-4438-9eca-5eebb55785c6",
   "metadata": {},
   "source": [
    "# Operator"
   ]
  },
  {
   "cell_type": "code",
   "execution_count": null,
   "id": "a9ea82d3-6f50-4067-88f1-35087d15c861",
   "metadata": {},
   "outputs": [],
   "source": [
    "# Dalam pembuatan program, banyak menggunakan operasi- operasi yang melibatkan nilai numerik,string dll,\n",
    "#operator diklasifikasikan ke dalam 6 kelompok:\n",
    "#1) Operator Penugasan\n",
    "#2) Operator Aritmatika\n",
    "#3) Operator relasional\n",
    "#4) Operator logika\n",
    "#5) Operator String\n",
    "#6) Operator bitwise"
   ]
  },
  {
   "cell_type": "markdown",
   "id": "0655125f-ba19-4af5-9d8f-b15be029a940",
   "metadata": {},
   "source": [
    "# Operator Penugasan (Assigment)"
   ]
  },
  {
   "cell_type": "code",
   "execution_count": 7,
   "id": "670ab2ea-d4ae-4e60-b302-864ea8ecae1f",
   "metadata": {},
   "outputs": [
    {
     "name": "stdout",
     "output_type": "stream",
     "text": [
      "5\n"
     ]
    }
   ],
   "source": [
    "#Menggunakan tanda operasi / operator sama dengan (=)\n",
    "#contoh\n",
    "a=5\n",
    "print(a)"
   ]
  },
  {
   "cell_type": "code",
   "execution_count": 11,
   "id": "fc63df09-eaf0-4db2-8912-5108474fc9b5",
   "metadata": {},
   "outputs": [
    {
     "name": "stdout",
     "output_type": "stream",
     "text": [
      "10\n"
     ]
    }
   ],
   "source": [
    "#Contoh  \n",
    "a=7\n",
    "a=a+3  # a baru = a lama + 3\n",
    "print(a)\n"
   ]
  },
  {
   "cell_type": "code",
   "execution_count": 15,
   "id": "6e597521-f041-40a0-8759-77180e5a4368",
   "metadata": {},
   "outputs": [
    {
     "name": "stdout",
     "output_type": "stream",
     "text": [
      "13\n"
     ]
    }
   ],
   "source": [
    "#merubah kode operasi penjumlahan\n",
    "#Contoh \n",
    "a = 5\n",
    "a += 8  #a baru = a lama + 8\n",
    "print(a)"
   ]
  },
  {
   "cell_type": "code",
   "execution_count": 52,
   "id": "9de24469-059f-4f26-8075-992fd011873c",
   "metadata": {},
   "outputs": [
    {
     "name": "stdout",
     "output_type": "stream",
     "text": [
      "60\n"
     ]
    }
   ],
   "source": [
    "# operasi perkalian\n",
    "b = 5\n",
    "b  *= 12\n",
    "print(b)"
   ]
  },
  {
   "cell_type": "code",
   "execution_count": 68,
   "id": "8f326f05-52a0-44fd-b9a1-26e89d244217",
   "metadata": {},
   "outputs": [
    {
     "name": "stdout",
     "output_type": "stream",
     "text": [
      "8\n"
     ]
    }
   ],
   "source": [
    "#Operasi Pembagian bilangan bulat(//=)\n",
    "b= 60\n",
    "b //=  7\n",
    "print(b)"
   ]
  },
  {
   "cell_type": "code",
   "execution_count": 70,
   "id": "9e417b09-2741-4700-aad1-86fd2420f9af",
   "metadata": {},
   "outputs": [
    {
     "name": "stdout",
     "output_type": "stream",
     "text": [
      "8.571428571428571\n"
     ]
    }
   ],
   "source": [
    "#Operasi Pembagian bilangan rill(/=)\n",
    "b=60\n",
    "b /=  7\n",
    "print(b)"
   ]
  },
  {
   "cell_type": "code",
   "execution_count": 74,
   "id": "c99a0022-8e66-44f9-9c6f-77d3fc3147b9",
   "metadata": {},
   "outputs": [
    {
     "name": "stdout",
     "output_type": "stream",
     "text": [
      "4\n"
     ]
    }
   ],
   "source": [
    "#operasi pencarian sisa bagi(%=)\n",
    "b=60\n",
    "b%=7\n",
    "print(b)"
   ]
  },
  {
   "cell_type": "markdown",
   "id": "16c30fc1-9661-4430-94c2-c86dea933f7d",
   "metadata": {},
   "source": [
    "# Operator Aritmatika"
   ]
  },
  {
   "cell_type": "code",
   "execution_count": 120,
   "id": "eb553947-af24-46f2-9d80-d0aa61afc961",
   "metadata": {},
   "outputs": [
    {
     "name": "stdout",
     "output_type": "stream",
     "text": [
      "x= 7\n",
      "y= 2\n",
      "x+y= 9\n",
      "x-y= 5\n",
      "x*y= 14\n",
      "x/y= 3.5\n",
      "x//y= 3\n",
      "x%y= 1\n",
      "x**y= 49\n"
     ]
    }
   ],
   "source": [
    "# Operator Digunakan untuk melakukan perhitungan terhadap data numerik\n",
    "# Bentuk operator:\n",
    "# (+) --> penjumlahan\n",
    "# (-) --> pengurangan\n",
    "# (*) --> perkalian\n",
    "# (/) --> Pembagianril bil ril\n",
    "# (//) --> pembagian bil. bulat\n",
    "# (%) --> sisa bagi(modulus)\n",
    "# (**) --> perpangkatan\n",
    "\n",
    "#Contoh Program \n",
    "def main():\n",
    "    #Mendefinisikan variabel x dan y\n",
    "    x=7\n",
    "    y=2\n",
    "\n",
    "    #menampilkan nilai x dan y\n",
    "    print ('x=',x)\n",
    "    print ('y=',y)\n",
    "\n",
    "    #Melakukan perhitungan terhadap x dan y\n",
    "    print('x+y=', (x+y))\n",
    "    print('x-y=', (x-y))\n",
    "    print('x*y=', (x*y))\n",
    "    print('x/y=', (x/y))\n",
    "    print('x//y=', (x//y))\n",
    "    print('x%y=', (x%y))\n",
    "    print('x**y=', (x**y))\n",
    "\n",
    "if __name__ == '__main__' :\n",
    "    main()"
   ]
  },
  {
   "cell_type": "markdown",
   "id": "776dd130-f752-4a5d-bb59-9f2abcb446b7",
   "metadata": {},
   "source": [
    "# Operator Relasional"
   ]
  },
  {
   "cell_type": "code",
   "execution_count": 131,
   "id": "d4d92312-306f-4928-b6a4-27fcda7ea978",
   "metadata": {},
   "outputs": [
    {
     "name": "stdout",
     "output_type": "stream",
     "text": [
      "x= 7\n",
      "y= 2\n",
      "x==y False\n",
      "x!=y True\n",
      "x>y= True\n",
      "x>=y= True\n",
      "x<y= False\n",
      "x<=y= False\n",
      "x in li False\n",
      "y in li True\n"
     ]
    }
   ],
   "source": [
    "# Oerator yang digunakan untuk membandingkan 2 buah nilai .\n",
    "# Hasil yang diperoleh adalah nilai logika (boolean), Yaitu True(Benar) dan False(Salah)\n",
    "# Bentuk Operator:\n",
    "# (==) --> sama dengan\n",
    "# (!=) --> tidak sama dengan\n",
    "# (>) --> Lebih Besar\n",
    "# (>=) --> Lebih Besar sama dengan\n",
    "# (<) --> Kurang dari\n",
    "# (<=) --> Kurang dari sama dengan sama dengan\n",
    "# (in) --> memeriksa nilai dalam kumpulan (Dict,list,Tuple,set)\n",
    "\n",
    "#Contoh Program \n",
    "def main():\n",
    "    #Mendefinisikan variabel x dan y\n",
    "    x=7\n",
    "    y=2\n",
    "    li =[2,4,8,16,32]\n",
    "\n",
    "    #menampilkan nilai x dan y\n",
    "    print ('x=',x)\n",
    "    print ('y=',y)\n",
    "\n",
    "    #Melakukan pemeriksaan terhadap x dan y\n",
    "    print('x==y', (x==y))\n",
    "    print('x!=y', (x!=y))\n",
    "    print('x>y=', (x>y))\n",
    "    print('x>=y=', (x>=y))\n",
    "    print('x<y=', (x<y))\n",
    "    print('x<=y=', (x<=y))\n",
    "    print('x in li', (x in li))\n",
    "    print('y in li', (y in li))\n",
    "\n",
    "if __name__ == '__main__' :\n",
    "    main()"
   ]
  },
  {
   "cell_type": "markdown",
   "id": "333b2f5a-2202-4ddf-a64b-7b5371f3aa46",
   "metadata": {},
   "source": [
    "# Operator Logika"
   ]
  },
  {
   "cell_type": "code",
   "execution_count": 175,
   "id": "97607356-a5e2-42a1-ab7e-5f789ff09ccc",
   "metadata": {},
   "outputs": [
    {
     "name": "stdout",
     "output_type": "stream",
     "text": [
      "Operasi AND\n",
      "True and True \t: True\n",
      "True and False \t: False\n",
      "False and True \t: False\n",
      "False and False\t: False\n",
      "\n",
      "Operasi OR\n",
      "True or True \t: True\n",
      "True or False \t: True\n",
      "False or True \t: True\n",
      "False or False \t: False\n",
      "\n",
      "Operasi NOT\n",
      "True \t: False\n",
      "False \t: True\n"
     ]
    }
   ],
   "source": [
    "# adalah Operator yang digunakan untuk melakukan opersai terhadap nilai True False\n",
    "# Operator and --> Operasi AND\n",
    "# Operasi or --> Operasi OR\n",
    "# Operasi not --> Operasi NOT(negasi)\n",
    "\n",
    "# Contoh Program\n",
    "def main():\n",
    "    print('Operasi AND')\n",
    "    print('True and True \\t:', (True and True))\n",
    "    print('True and False \\t:', (True and False))\n",
    "    print('False and True \\t:', (False and True))\n",
    "    print('False and False\\t:', (False and False))\n",
    "if __name__ == '__main__' :\n",
    "    main()\n",
    "print('')\n",
    "def main():\n",
    "    print('Operasi OR')\n",
    "    print('True or True \\t:', (True or True))\n",
    "    print('True or False \\t:', (True or False))\n",
    "    print('False or True \\t:', (False or True))\n",
    "    print('False or False \\t:', (False or False))\n",
    "if __name__ == '__main__' :\n",
    "    main()\n",
    "print('')\n",
    "def main():\n",
    "    print('Operasi NOT')\n",
    "    print('True \\t:', (not True))\n",
    "    print('False \\t:', (not False))\n",
    "\n",
    "if __name__ == '__main__' :\n",
    "    main()"
   ]
  },
  {
   "cell_type": "markdown",
   "id": "dfee50a2-1f2d-4e61-9f93-f1bc5d6c31e3",
   "metadata": {},
   "source": [
    "# Operator String"
   ]
  },
  {
   "cell_type": "code",
   "execution_count": 195,
   "id": "202432ec-3f0e-4c2e-a9f8-489d42489c13",
   "metadata": {},
   "outputs": [
    {
     "name": "stdout",
     "output_type": "stream",
     "text": [
      "Politeknik Takumi\n"
     ]
    }
   ],
   "source": [
    "# String dapat disambungkan dengan string lain menggunakan operator (+)\n",
    "# Contoh:\n",
    "str1 ='Politeknik '\n",
    "str2 = \"Takumi\"\n",
    "\n",
    "#menjumlahkan string\n",
    "str3 =  str1 + str2\n",
    "print(str3)"
   ]
  },
  {
   "cell_type": "code",
   "execution_count": 199,
   "id": "1502afde-37d2-4500-9399-2eea53a8f4ae",
   "metadata": {},
   "outputs": [
    {
     "name": "stdout",
     "output_type": "stream",
     "text": [
      "bil1:15\n",
      "bil2:7.25\n"
     ]
    }
   ],
   "source": [
    "#Jika string akan digabungkan dengan nilai numerik maka nilai numerik tersebut perlu dikonversi ke tipe str\n",
    "#contoh\n",
    "bil1 =15\n",
    "bil2 = 7.25\n",
    "\n",
    "print('bil1:'+str(bil1))\n",
    "print('bil2:'+str(bil2))"
   ]
  },
  {
   "cell_type": "code",
   "execution_count": 207,
   "id": "44b3f15f-d485-4b28-b394-7326a6b40d36",
   "metadata": {},
   "outputs": [
    {
     "name": "stdout",
     "output_type": "stream",
     "text": [
      "bil1: 15\n",
      "bil2: 7.25\n"
     ]
    }
   ],
   "source": [
    "#Cara lain untuk menyambung nilai numerik dengan nilai string adalah dengan membuat string terformat (formatted string)\n",
    "#contoh\n",
    "bil1= 15\n",
    "bil2 = 7.25\n",
    "\n",
    "str1 = 'bil1: %d'%bil1\n",
    "str2 = 'bil2: %.2f' %bil2\n",
    "print(str1)\n",
    "print(str2)"
   ]
  },
  {
   "cell_type": "code",
   "execution_count": 211,
   "id": "8ed6f7f6-49d5-4394-81ed-e32d0b8be8e8",
   "metadata": {},
   "outputs": [
    {
     "name": "stdout",
     "output_type": "stream",
     "text": [
      "'Takumi'ada didalam string bintang\n"
     ]
    }
   ],
   "source": [
    "# Operator \"in\" untuk memeriksa apakah karakter atau substring tertentu ada di dalam string\n",
    "\n",
    "#contoh\n",
    "bintang = 'Politeknik Takumi'\n",
    "if 'Takumi' in bintang :\n",
    "    print(\"'Takumi'ada didalam string bintang\")\n",
    "else:\n",
    "    print(\"'Takumi'tidak ada didalam string bintang\")"
   ]
  },
  {
   "cell_type": "code",
   "execution_count": 237,
   "id": "82cd3742-c640-4551-92b9-b0d655e58442",
   "metadata": {
    "scrolled": true
   },
   "outputs": [
    {
     "name": "stdout",
     "output_type": "stream",
     "text": [
      "ಠ_ಠ ಠ_ಠ ಠ_ಠ \n",
      "ಠ_ಠ ಠ_ಠ ಠ_ಠ ಠ_ಠ ಠ_ಠ ಠ_ಠ \n"
     ]
    }
   ],
   "source": [
    "# Menerapkan operator \"*\"kedalam string untuk mengulang karakter\n",
    "# Contoh\n",
    "karakter = 'ಠ_ಠ '\n",
    "teks = karakter * 3\n",
    "print(teks)\n",
    "\n",
    "print ((teks+'')*2)"
   ]
  },
  {
   "cell_type": "markdown",
   "id": "f31069e7-c546-4e4a-8f96-1cd4c9eb07df",
   "metadata": {},
   "source": [
    "# Operator Bitwise"
   ]
  },
  {
   "cell_type": "code",
   "execution_count": 248,
   "id": "56bc5713-6871-4eff-afd5-eecd41bbfbb5",
   "metadata": {},
   "outputs": [
    {
     "name": "stdout",
     "output_type": "stream",
     "text": [
      "x: \t10\n",
      "y: \t5\n",
      "\n",
      "Bitwise AND\n",
      "x&y \t:0\n",
      "\n",
      "Bitwise OR\n",
      "x|y \t:15\n",
      "\n",
      "Bitwise XOR\n",
      "x^y \t:15\n",
      "\n",
      "Bitwise NOT\n",
      "~x \t:-11\n",
      "~y \t:-6\n",
      "\n",
      "Bitwise SHIFT LEFT\n",
      "x<<1 \t:20\n",
      "y<<1 \t:10\n",
      "\n",
      "Bitwise XOR\n",
      "x>>1 \t:5\n",
      "y>>1 \t:2\n"
     ]
    }
   ],
   "source": [
    "#Operasi Bitwise bertipe bilangan bulat (integer)\n",
    "#vaariabel pertama akan dikonveriskan menjadi bentuk biner (basis 2)\n",
    "#Bentuk Operator\n",
    "#1) & \"Bitwise AND\"\n",
    "#1) | \"Bitwise OR\"\n",
    "#1) ^ \"Bitwise XOR\"\n",
    "#1) ~ \"Bitwise NOT\"\n",
    "#1) << \"Bitwise shift Left\"\n",
    "#1) >> \"Bitwise shift right\"\n",
    "\n",
    "#Contoh\n",
    "def main ():\n",
    "    x = 10 #dalam bentuk biner 1010\n",
    "    y = 5 #dalam bentuk biner 0101\n",
    "    \n",
    "    #Menampilkan nilai x dan y\n",
    "    print('x: \\t'+ str(x))\n",
    "    print('y: \\t'+ str(y))\n",
    "\n",
    "    print(\"\\nBitwise AND\")\n",
    "    print(\"x&y \\t:\" + str(x&y))\n",
    "\n",
    "    print(\"\\nBitwise OR\")\n",
    "    print(\"x|y \\t:\" + str(x|y))\n",
    "\n",
    "    print(\"\\nBitwise XOR\")\n",
    "    print(\"x^y \\t:\" + str(x^y))\n",
    "\n",
    "    print(\"\\nBitwise NOT\")\n",
    "    print(\"~x \\t:\" + str(~x))\n",
    "    print(\"~y \\t:\" + str(~y))\n",
    "    \n",
    "    print(\"\\nBitwise SHIFT LEFT\")\n",
    "    print(\"x<<1 \\t:\" + str(x<<1))\n",
    "    print(\"y<<1 \\t:\" + str(y<<1))\n",
    "\n",
    "    print(\"\\nBitwise XOR\")\n",
    "    print(\"x>>1 \\t:\" + str(x>>1))\n",
    "    print(\"y>>1 \\t:\" + str(y>>1))\n",
    "\n",
    "if __name__ == \"__main__\":\n",
    "    main()"
   ]
  },
  {
   "cell_type": "code",
   "execution_count": null,
   "id": "fb2796a6-4f0b-4942-a090-4d4e3d8341a0",
   "metadata": {},
   "outputs": [],
   "source": []
  }
 ],
 "metadata": {
  "kernelspec": {
   "display_name": "Python 3 (ipykernel)",
   "language": "python",
   "name": "python3"
  },
  "language_info": {
   "codemirror_mode": {
    "name": "ipython",
    "version": 3
   },
   "file_extension": ".py",
   "mimetype": "text/x-python",
   "name": "python",
   "nbconvert_exporter": "python",
   "pygments_lexer": "ipython3",
   "version": "3.12.4"
  }
 },
 "nbformat": 4,
 "nbformat_minor": 5
}
