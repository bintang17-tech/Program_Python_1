{
 "cells": [
  {
   "cell_type": "code",
   "execution_count": 50,
   "id": "75a2da34-18c1-48fd-9d64-84acb244b777",
   "metadata": {},
   "outputs": [
    {
     "name": "stdout",
     "output_type": "stream",
     "text": [
      "Bintang Ardiansyah Python Mekatronika\n"
     ]
    }
   ],
   "source": [
    "#dalam python dictionary disebut juga dengan \"mapping\" identik dengan array asos\n",
    "#indeks type string\n",
    "#type data : 1)key 2)value\n",
    "\n",
    "#Bentuk umum dictionary : variabel = {key1:value1, key2:value2}\n",
    "\n",
    "#Contoh\n",
    "dic={'Mahasiswa' :'Bintang','Lengkap':'Ardiansyah','Matkul':'Python' ,'Prodi':'Mekatronika'} #membuat Variabel\n",
    "\n",
    "#menampilkan dictionary:\n",
    "print(dic['Mahasiswa'],dic['Lengkap'],dic['Matkul'], dic['Prodi'])\n",
    "\n"
   ]
  },
  {
   "cell_type": "code",
   "execution_count": 144,
   "id": "7313a482-cabf-4910-9dac-78255a08cd27",
   "metadata": {},
   "outputs": [
    {
     "name": "stdout",
     "output_type": "stream",
     "text": [
      "Nama          : Bintang Ardiansyah\n",
      "Tanggal Lahir : 10 / 03 / 2002\n",
      "Tempat Lahir  : Klaten\n",
      "Alamat        : Kp.Cijingga, Desa Serang, Kecamatan Cikarang Selatan,Kabupaten Bekasi, Jawa Barat, 17530\n",
      "Hobby         : Mendengarkan Musik\n",
      "Mata Kuliah   : Pemrograman Python\n",
      "Program Studi : Mekatronika\n",
      "Tanggal Lahir + Tahun Lahir = 2012\n",
      "Tahun Lahir - Tanggal Lahir = 1992\n",
      "Tanggal Lahir * Tahun Lahir = 20020\n",
      "Tahun Lahir / Tanggal Lahir = 200.2\n"
     ]
    }
   ],
   "source": [
    "dic={'Nama' :'Bintang Ardiansyah','Tanggal Lahir': 10,'Bulan':'03','Tahun': 2002,'Tempat Lahir':'Klaten' \n",
    "     ,'Alamat':'Kp.Cijingga, Desa Serang, Kecamatan Cikarang Selatan,Kabupaten Bekasi, Jawa Barat, 17530'\n",
    "     , 'Hobby':'Mendengarkan Musik','Matkul':'Pemrograman Python' ,'Prodi':'Mekatronika'}\n",
    "\n",
    "#menampilkan Dictionary\n",
    "print (\"Nama          :\",dic['Nama'])\n",
    "print (\"Tanggal Lahir :\",dic['Tanggal Lahir'],'/',dic['Bulan'],'/',dic['Tahun'])\n",
    "print (\"Tempat Lahir  :\",dic['Tempat Lahir'])\n",
    "print (\"Alamat        :\",dic['Alamat'])\n",
    "print (\"Hobby         :\",dic['Hobby'])\n",
    "print (\"Mata Kuliah   :\",dic['Matkul'])\n",
    "print (\"Program Studi :\",dic['Prodi'])\n",
    "\n",
    "print(\"Tanggal Lahir + Tahun Lahir =\",dic['Tanggal Lahir']+dic['Tahun'])\n",
    "print(\"Tahun Lahir - Tanggal Lahir =\",dic['Tahun']-dic['Tanggal Lahir'])\n",
    "print(\"Tanggal Lahir * Tahun Lahir =\",dic['Tanggal Lahir']*dic['Tahun'])\n",
    "print(\"Tahun Lahir / Tanggal Lahir =\",dic['Tahun']/dic['Tanggal Lahir'])"
   ]
  },
  {
   "cell_type": "code",
   "execution_count": 54,
   "id": "7ccede6a-4b5a-4463-a8d7-77f6daff4c9e",
   "metadata": {},
   "outputs": [
    {
     "name": "stdout",
     "output_type": "stream",
     "text": [
      "Nama Lengkap      : Bintang Ardiansyah\n",
      "Mata Kuliah       : Praktik Sistem Kendali 2\n",
      "Nilai UTS         : 89\n",
      "Nilai UAS         : 92\n",
      "Total Nilai       : 181\n",
      "Rata - Rata Nilai Mata Kuliah 1 : 90.5\n",
      "\n",
      "Mata Kuliah       : Praktik Pemrograman Pyhton\n",
      "Nilai UTS         : 91\n",
      "Nilai UAS         : 90\n",
      "Total Nilai       : 181\n",
      "Rata - Rata Nilai Mata Kuliah 2: 90.5\n",
      "\n",
      "Total Keseluruhan    : 362\n",
      "Rata Rata Keseluruhan: 90.5\n"
     ]
    }
   ],
   "source": [
    "dic={'Nama':'Bintang Ardiansyah','Matkul1': 'Praktik Sistem Kendali 2', 'UTS':89, 'UAS':92,'Matkul2': 'Praktik Pemrograman Pyhton', 'UTS1':91, 'UAS1':90}\n",
    "print(\"Nama Lengkap      :\", dic['Nama'])\n",
    "print(\"Mata Kuliah       :\", dic['Matkul1'])\n",
    "print(\"Nilai UTS         :\", dic['UTS'])\n",
    "print(\"Nilai UAS         :\", dic['UAS'])\n",
    "print(\"Total Nilai       :\", dic['UAS']+ dic['UTS'])\n",
    "print(\"Rata - Rata Nilai Mata Kuliah 1 :\", (dic['UAS']+ dic['UTS'])/2)\n",
    "print(\"\")\n",
    "print(\"Mata Kuliah       :\", dic['Matkul2'])\n",
    "print(\"Nilai UTS         :\", dic['UTS1'])\n",
    "print(\"Nilai UAS         :\", dic['UAS1'])\n",
    "print(\"Total Nilai       :\", dic['UAS1']+ dic['UTS1'])\n",
    "print(\"Rata - Rata Nilai Mata Kuliah 2:\", (dic['UAS1']+ dic['UTS1'])/2)\n",
    "print(\"\")\n",
    "print(\"Total Keseluruhan    :\",(dic['UAS1']+ dic['UTS1']+dic['UAS']+ dic['UTS']))\n",
    "print(\"Rata Rata Keseluruhan:\",(dic['UAS1']+ dic['UTS1']+dic['UAS']+ dic['UTS'])/4)\n",
    "\n"
   ]
  },
  {
   "cell_type": "code",
   "execution_count": 82,
   "id": "36ee5d95-5d79-49de-82bd-746764b802cc",
   "metadata": {},
   "outputs": [
    {
     "name": "stdout",
     "output_type": "stream",
     "text": [
      "Nilai UTS =  32\n",
      "Nilai UAS =  12\n",
      "Rata Rata Nilai = 22.0\n",
      "Tidak Lulus\n"
     ]
    }
   ],
   "source": [
    "dic={'Nama':'Bintang Ardiansyah','Matkul1': 'Praktik Sistem Kendali 2', 'UTS':89, 'UAS':92}\n",
    "dic['Matkul1']='Praktik Pemrograman Pyhton'\n",
    "dic['UTS']=32\n",
    "dic['UAS']=12\n",
    "print(\"Nilai UTS = \",dic['UTS'])\n",
    "print(\"Nilai UAS = \",dic['UAS'])\n",
    "print(\"Rata Rata Nilai =\", (dic['UAS']+ dic['UTS'])/2)\n",
    "\n",
    "if (dic['UTS'] + dic['UAS'])/2 <=50:\n",
    "    print(\"Tidak Lulus\")\n",
    "else :\n",
    "    print(\"Lulus\")"
   ]
  },
  {
   "cell_type": "code",
   "execution_count": 95,
   "id": "782ee9ac-ae0b-4174-a2b9-ea83b176cfdf",
   "metadata": {},
   "outputs": [
    {
     "name": "stdout",
     "output_type": "stream",
     "text": [
      "{'Nama': 'Bintang Ardiansyah', 'UTS': 89, 'UAS': 92}\n"
     ]
    }
   ],
   "source": [
    "dic={'Nama':'Bintang Ardiansyah','Matkul1': 'Praktik Sistem Kendali 2', 'UTS':89, 'UAS':92}\n",
    "dic['Matkul1']='Praktik Pemrograman Pyhton'\n",
    "del dic['Matkul1']\n",
    "print(dic)"
   ]
  },
  {
   "cell_type": "code",
   "execution_count": 101,
   "id": "f0e00a59-76c3-428a-80a6-4ae0a42a708f",
   "metadata": {},
   "outputs": [
    {
     "name": "stdout",
     "output_type": "stream",
     "text": [
      "Mata Kuliah 1 Praktik Pemrograman Pyhton\n",
      "Nilai UTS =  32\n",
      "Nilai UAS =  12\n",
      "Rata Rata Nilai = 22.0\n",
      "Tidak Lulus\n",
      "{'Nama': 'Bintang Ardiansyah', 'UTS': 32, 'UAS': 12}\n"
     ]
    }
   ],
   "source": [
    "dic={'Nama':'Bintang Ardiansyah','Matkul1': 'Praktik Sistem Kendali 2', 'UTS':89, 'UAS':92,'Matkul2':''}\n",
    "dic['Matkul1']='Praktik Pemrograman Pyhton'\n",
    "dic['UTS']=32\n",
    "dic['UAS']=12\n",
    "print(\"Mata Kuliah 1\",dic['Matkul1'])\n",
    "print(\"Nilai UTS = \",dic['UTS'])\n",
    "print(\"Nilai UAS = \",dic['UAS'])\n",
    "print(\"Rata Rata Nilai =\", (dic['UAS']+ dic['UTS'])/2)\n",
    "\n",
    "if (dic['UTS'] + dic['UAS'])/2 <=50:\n",
    "    print(\"Tidak Lulus\")\n",
    "else :\n",
    "    print(\"Lulus\")\n",
    "\n",
    "dic['Matkul1']='Praktik Pemrograman Pyhton'\n",
    "del dic['Matkul1']\n",
    "print(dic)"
   ]
  },
  {
   "cell_type": "code",
   "execution_count": null,
   "id": "92b753d2-dd23-463e-a800-598e25ae52fc",
   "metadata": {},
   "outputs": [],
   "source": []
  }
 ],
 "metadata": {
  "kernelspec": {
   "display_name": "Python 3 (ipykernel)",
   "language": "python",
   "name": "python3"
  },
  "language_info": {
   "codemirror_mode": {
    "name": "ipython",
    "version": 3
   },
   "file_extension": ".py",
   "mimetype": "text/x-python",
   "name": "python",
   "nbconvert_exporter": "python",
   "pygments_lexer": "ipython3",
   "version": "3.12.4"
  }
 },
 "nbformat": 4,
 "nbformat_minor": 5
}
