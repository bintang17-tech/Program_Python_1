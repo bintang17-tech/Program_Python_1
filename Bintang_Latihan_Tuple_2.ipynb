{
 "cells": [
  {
   "cell_type": "code",
   "execution_count": 7,
   "id": "f51fe015-9079-46e8-a0aa-094a201c8ed0",
   "metadata": {},
   "outputs": [
    {
     "name": "stdout",
     "output_type": "stream",
     "text": [
      "2024-10-02\n",
      "02 Oktober 2024\n"
     ]
    }
   ],
   "source": [
    "#Membuat Kalender\n",
    "\n",
    "import datetime as dt\n",
    "#Tuple untuk nama bulan\n",
    "BULAN = ('January', 'February', 'March','April','Mei','June','July','August','September','Oktober','November','Desember')\n",
    "#Today akan berisi : 'YYYY-MM-DD'\n",
    "\n",
    "today = dt.date.isoformat(dt.date.today())\n",
    "\n",
    "yyyy = today[:4]\n",
    "mm = today[5:7]\n",
    "dd = today [8:]\n",
    "\n",
    "print(today)\n",
    "print('%s %s %s' %(dd, BULAN[int(mm)-1],yyyy))\n",
    "\n",
    "#Penjelasan :\n",
    "#Metode Isoformat() dari kelas date yang tersimpan didalam modul datetime berfungsi untuk mengembalikan tanggal yang dilewatkan\n",
    "#Tanggal saat ini dapat diperoleh dengan memanggil metode today()dari kelas date.\n",
    "#Pada kode diatas, digunakan Tuple untuk menyimpan nama-nama bulan"
   ]
  },
  {
   "cell_type": "code",
   "execution_count": null,
   "id": "95135cdb-4311-46f3-b223-42e6e380d2e8",
   "metadata": {},
   "outputs": [],
   "source": []
  }
 ],
 "metadata": {
  "kernelspec": {
   "display_name": "Python 3 (ipykernel)",
   "language": "python",
   "name": "python3"
  },
  "language_info": {
   "codemirror_mode": {
    "name": "ipython",
    "version": 3
   },
   "file_extension": ".py",
   "mimetype": "text/x-python",
   "name": "python",
   "nbconvert_exporter": "python",
   "pygments_lexer": "ipython3",
   "version": "3.12.4"
  }
 },
 "nbformat": 4,
 "nbformat_minor": 5
}
