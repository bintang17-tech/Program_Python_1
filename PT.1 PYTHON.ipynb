{
 "cells": [
  {
   "cell_type": "code",
   "execution_count": 95,
   "id": "2f810f41-7fd0-4930-a9fc-531ef367672a",
   "metadata": {},
   "outputs": [
    {
     "name": "stdout",
     "output_type": "stream",
     "text": [
      "B\n",
      "i\n",
      "n\n",
      "t\n",
      "a\n",
      "n\n",
      "g\n",
      " \n",
      "A\n",
      "r\n",
      "d\n",
      "i\n",
      "a\n",
      "n\n",
      "s\n",
      "y\n",
      "a\n",
      "h\n",
      "bintang ardiansyah\n",
      "BINTANG ARDIANSYAH\n"
     ]
    },
    {
     "data": {
      "text/plain": [
       "18"
      ]
     },
     "execution_count": 95,
     "metadata": {},
     "output_type": "execute_result"
    }
   ],
   "source": [
    "s='Bintang Ardiansyah'\n",
    "print(s[-18])\n",
    "print(s[1])\n",
    "print(s[-16])\n",
    "print(s[3])\n",
    "print(s[-14])\n",
    "print(s[5])\n",
    "print(s[-12])\n",
    "print(s[7])\n",
    "print(s[-10])\n",
    "print(s[9])\n",
    "print(s[-8])\n",
    "print(s[11])\n",
    "print(s[-6])\n",
    "print(s[13])\n",
    "print(s[-4])\n",
    "print(s[15])\n",
    "print(s[-2])\n",
    "print(s[17])\n",
    "\n",
    "s.upper()\n",
    "s.lower()\n",
    "print(s.lower())\n",
    "print(s.upper())\n",
    "len(s)#Menghitung jumlah String"
   ]
  },
  {
   "cell_type": "code",
   "execution_count": 51,
   "id": "806146a4-b67d-4504-a55e-edadaab90f57",
   "metadata": {},
   "outputs": [
    {
     "name": "stdout",
     "output_type": "stream",
     "text": [
      "['a', 'b', 'c', 'd']\n"
     ]
    }
   ],
   "source": [
    "#SplitKarakter\n",
    "huruf = ['a','b','c','d']\n",
    "print(huruf)\n"
   ]
  },
  {
   "cell_type": "code",
   "execution_count": 90,
   "id": "8aaf5cd0-526b-4949-a809-8fbc574bda19",
   "metadata": {},
   "outputs": [
    {
     "name": "stdout",
     "output_type": "stream",
     "text": [
      "Bintang Ardiansyah Mekatronika\n"
     ]
    }
   ],
   "source": [
    "s='bintang ardiansyah mekatronika'\n",
    "s1=(s[0])\n",
    "s1.upper()\n",
    "s2=(s[1:8])\n",
    "s3=(s[8])\n",
    "s3.upper()\n",
    "s4=(s[9:19])\n",
    "s5=(s[19])\n",
    "s5.upper() \n",
    "s6=(s[20:])\n",
    "print(s1.upper()+s2+s3.upper()+s4+s5.upper()+s6)"
   ]
  },
  {
   "cell_type": "code",
   "execution_count": 103,
   "id": "56be3c92-1be6-47eb-a568-4659d2118802",
   "metadata": {},
   "outputs": [
    {
     "name": "stdout",
     "output_type": "stream",
     "text": [
      "33554432\n"
     ]
    },
    {
     "data": {
      "text/plain": [
       "8"
      ]
     },
     "execution_count": 103,
     "metadata": {},
     "output_type": "execute_result"
    }
   ],
   "source": [
    "print(2**25)\n",
    "len(str(2**25))"
   ]
  },
  {
   "cell_type": "code",
   "execution_count": 108,
   "id": "3319a3a2-a82b-4f93-9dd2-fe31dcbe586b",
   "metadata": {},
   "outputs": [
    {
     "name": "stdout",
     "output_type": "stream",
     "text": [
      "3.141592653589793\n"
     ]
    },
    {
     "data": {
      "text/plain": [
       "9.0"
      ]
     },
     "execution_count": 108,
     "metadata": {},
     "output_type": "execute_result"
    }
   ],
   "source": [
    "import math#memanggil modul Matematika\n",
    "print(math.pi)\n",
    "math.sqrt(81)"
   ]
  },
  {
   "cell_type": "code",
   "execution_count": 110,
   "id": "c7762e14-2166-4d54-b1b6-6f09f75a5a5a",
   "metadata": {},
   "outputs": [
    {
     "name": "stdout",
     "output_type": "stream",
     "text": [
      "31.41592653589793\n",
      "9.0\n"
     ]
    }
   ],
   "source": [
    "import math\n",
    "x=10\n",
    "y=81\n",
    "a=math.pi*x\n",
    "b=math.sqrt(y)\n",
    "print(a)\n",
    "print(b)"
   ]
  },
  {
   "cell_type": "code",
   "execution_count": 120,
   "id": "8d3805d1-cb10-4167-8003-8fe5c8def602",
   "metadata": {},
   "outputs": [
    {
     "data": {
      "text/plain": [
       "'N'"
      ]
     },
     "execution_count": 120,
     "metadata": {},
     "output_type": "execute_result"
    }
   ],
   "source": [
    "import random\n",
    "random.choice('BINTANG')"
   ]
  },
  {
   "cell_type": "code",
   "execution_count": 123,
   "id": "b15db8c2-d3a4-454d-8b4e-75a0e0a84711",
   "metadata": {},
   "outputs": [
    {
     "name": "stdout",
     "output_type": "stream",
     "text": [
      "0.0\n",
      "1.0\n",
      "0.0\n"
     ]
    }
   ],
   "source": [
    "import math\n",
    "a=0\n",
    "print(math.sin(a))\n",
    "print(math.cos(a))\n",
    "print(math.tan(a))\n"
   ]
  },
  {
   "cell_type": "code",
   "execution_count": 128,
   "id": "875e3a42-00b7-40f2-a68e-361bc07e8faa",
   "metadata": {},
   "outputs": [
    {
     "name": "stdout",
     "output_type": "stream",
     "text": [
      "False\n",
      "True\n"
     ]
    }
   ],
   "source": [
    "t = True\n",
    "f = False\n",
    "\n",
    "print(t and f)\n",
    "print(t or f)"
   ]
  },
  {
   "cell_type": "code",
   "execution_count": null,
   "id": "05ca275d-e281-4098-82c5-0dff79681288",
   "metadata": {},
   "outputs": [],
   "source": []
  }
 ],
 "metadata": {
  "kernelspec": {
   "display_name": "Python 3 (ipykernel)",
   "language": "python",
   "name": "python3"
  },
  "language_info": {
   "codemirror_mode": {
    "name": "ipython",
    "version": 3
   },
   "file_extension": ".py",
   "mimetype": "text/x-python",
   "name": "python",
   "nbconvert_exporter": "python",
   "pygments_lexer": "ipython3",
   "version": "3.12.4"
  }
 },
 "nbformat": 4,
 "nbformat_minor": 5
}
