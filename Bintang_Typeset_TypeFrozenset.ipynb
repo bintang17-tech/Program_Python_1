{
 "cells": [
  {
   "cell_type": "markdown",
   "id": "5d20b054-8213-462c-8f0c-2ae10344b5c2",
   "metadata": {},
   "source": [
    "# type set"
   ]
  },
  {
   "cell_type": "code",
   "execution_count": null,
   "id": "659de3d9-2c6a-410c-9d4a-f7dfcb101c59",
   "metadata": {},
   "outputs": [],
   "source": [
    "#untuk membuat suatu himpunan, kita perlu menggunakan set()\n",
    "#dan menyertakan runtutan nilai yang akan dijadikan sebagai elemen elemen himpunan tersebut sbg parameter\n",
    "#Bentuk umum: nama_set = set([nilai1,nilai2,nilai3,...])\n",
    "\n",
    "s= set([11,21,32,43])\n",
    "print(s)"
   ]
  },
  {
   "cell_type": "code",
   "execution_count": 6,
   "id": "d470c2fa-ae22-42c0-876c-c48e9de2e44b",
   "metadata": {},
   "outputs": [
    {
     "name": "stdout",
     "output_type": "stream",
     "text": [
      "{'bintang', 'fadhlan', 'rizki', 'arvin', 'ghani', 'akhsan'}\n"
     ]
    }
   ],
   "source": [
    "mekatro = set(['bintang', 'fadhlan','arvin','akhsan','ghani','rizki'])\n",
    "print(mekatro)"
   ]
  },
  {
   "cell_type": "code",
   "execution_count": 20,
   "id": "695a8615-b759-423d-9aca-19e6f0964d94",
   "metadata": {},
   "outputs": [
    {
     "name": "stdout",
     "output_type": "stream",
     "text": [
      "Elemen awal:\n",
      "33 11 44 22 55 \n",
      "\n",
      "Seteleah pemanggilan add():\n",
      "33 66 11 44 77 22 55 \n",
      "\n",
      "Setelah pemanggilan Update():\n",
      "33 66 99 11 44 77 22 55 88 \n",
      "\n",
      "Setelah pemanggilan Remove():\n",
      "33 66 99 11 77 22 55 88 \n",
      "\n",
      "Setelah pemanggilan Clear():\n",
      "Himpunan kosong\n",
      "\n"
     ]
    },
    {
     "ename": "SystemExit",
     "evalue": "1",
     "output_type": "error",
     "traceback": [
      "An exception has occurred, use %tb to see the full traceback.\n",
      "\u001b[1;31mSystemExit\u001b[0m\u001b[1;31m:\u001b[0m 1\n"
     ]
    },
    {
     "name": "stderr",
     "output_type": "stream",
     "text": [
      "C:\\Users\\Lenovo\\anaconda3\\Lib\\site-packages\\IPython\\core\\interactiveshell.py:3585: UserWarning: To exit: use 'exit', 'quit', or Ctrl-D.\n",
      "  warn(\"To exit: use 'exit', 'quit', or Ctrl-D.\", stacklevel=1)\n"
     ]
    }
   ],
   "source": [
    "#contoh program yang menunjukkan pembuatan dan penggunaan himpunan\n",
    "\n",
    "import sys\n",
    "def printElements(s, info):\n",
    "    print(info)\n",
    "    if len(s) == 0:\n",
    "        print(\"Himpunan kosong\\n\")\n",
    "        sys.exit(1)\n",
    "    for e in s:\n",
    "        print(str(e) + \" \", end = '')\n",
    "    print(\"\\n\")\n",
    "#Membuat Himpunan\n",
    "s = set ([11,22,33,44,55])\n",
    "printElements(s,\"Elemen awal:\")\n",
    "\n",
    "#menambahkan anggota/elemen baru\n",
    "#menggunakan metode add()\n",
    "s.add(66);\n",
    "s.add(77);\n",
    "printElements(s,\"Seteleah pemanggilan add():\")\n",
    "\n",
    "#menambahkan anggota/elemen baru\n",
    "#menggunakan metode update()\n",
    "s.update([88,99])\n",
    "printElements(s, \"Setelah pemanggilan Update():\")\n",
    "\n",
    "#menghapus elemen dengan nilai 44\n",
    "s.remove(44)\n",
    "printElements(s, \"Setelah pemanggilan Remove():\")\n",
    "\n",
    "#MENGHAPUS SEMUA elemen\n",
    "s.clear()\n",
    "printElements(s,\"Setelah pemanggilan Clear():\")"
   ]
  },
  {
   "cell_type": "code",
   "execution_count": 22,
   "id": "398c1444-c4a3-40a6-bb6f-6e1a39bfc6c8",
   "metadata": {},
   "outputs": [
    {
     "name": "stdout",
     "output_type": "stream",
     "text": [
      "operasi union\n",
      "{1, 2, 3, 4}\n",
      "operasi Intersection\n",
      "{3}\n",
      "operasi Difference\n",
      "{1, 2}\n",
      "operasi symmetric diiference\n",
      "{1, 2, 4}\n"
     ]
    }
   ],
   "source": [
    "#Type Set mendukung operasi-operasi HImpunan Seperti:\n",
    "\n",
    "x = set([1,2,3])\n",
    "y = set([3,4])\n",
    "\n",
    "a = x | y #union\n",
    "print(\"operasi union\")\n",
    "print(a)\n",
    "\n",
    "b= x & y  #Intersection\n",
    "print(\"operasi Intersection\")\n",
    "print(b)\n",
    "\n",
    "c = x - y \n",
    "print(\"operasi Difference\")\n",
    "print(c)\n",
    "\n",
    "d = x ^ y\n",
    "print(\"operasi symmetric diiference\")\n",
    "print(d)"
   ]
  },
  {
   "cell_type": "markdown",
   "id": "a4cce145-a902-4530-81cf-d74b42aec958",
   "metadata": {},
   "source": [
    "# TYpe Frozenset"
   ]
  },
  {
   "cell_type": "code",
   "execution_count": 27,
   "id": "1b3d10a9-d23a-4175-8eed-26e9edcc2ae0",
   "metadata": {},
   "outputs": [
    {
     "name": "stdout",
     "output_type": "stream",
     "text": [
      "frozenset({1, 2, 3})\n"
     ]
    }
   ],
   "source": [
    "#JIka ingin mendefinisikan suatu himpunan yang tidak dapat diubah, baik nilai maupun jumlah anggota\n",
    "#perlu menggunakan fungsi frozenset()\n",
    "#bentuk umum:nama_constan_set = frozenset([nilai1,nilai2,nilai3,...])\n",
    "\n",
    "#Contoh:\n",
    "fs = frozenset([1,2,3])\n",
    "print(fs)\n"
   ]
  },
  {
   "cell_type": "code",
   "execution_count": 31,
   "id": "9d736f96-c6bd-48d1-bd36-628f23565ee3",
   "metadata": {},
   "outputs": [
    {
     "name": "stdout",
     "output_type": "stream",
     "text": [
      "frozenset({1, 2, 3})\n"
     ]
    },
    {
     "ename": "AttributeError",
     "evalue": "'frozenset' object has no attribute 'add'",
     "output_type": "error",
     "traceback": [
      "\u001b[1;31m---------------------------------------------------------------------------\u001b[0m",
      "\u001b[1;31mAttributeError\u001b[0m                            Traceback (most recent call last)",
      "Cell \u001b[1;32mIn[31], line 4\u001b[0m\n\u001b[0;32m      2\u001b[0m fs \u001b[38;5;241m=\u001b[39m \u001b[38;5;28mfrozenset\u001b[39m([\u001b[38;5;241m1\u001b[39m,\u001b[38;5;241m2\u001b[39m,\u001b[38;5;241m3\u001b[39m])\n\u001b[0;32m      3\u001b[0m \u001b[38;5;28mprint\u001b[39m(fs)\n\u001b[1;32m----> 4\u001b[0m fs\u001b[38;5;241m.\u001b[39madd(\u001b[38;5;241m4\u001b[39m)\n",
      "\u001b[1;31mAttributeError\u001b[0m: 'frozenset' object has no attribute 'add'"
     ]
    }
   ],
   "source": [
    "#frozenset tidak memiliki metode add()\n",
    "fs = frozenset([1,2,3])\n",
    "print(fs)\n",
    "fs.add(4)"
   ]
  },
  {
   "cell_type": "code",
   "execution_count": null,
   "id": "1b20cdab-1591-4665-b0aa-9db6a4f3245f",
   "metadata": {},
   "outputs": [],
   "source": []
  },
  {
   "cell_type": "code",
   "execution_count": null,
   "id": "abeab82f-acbb-4560-a80f-04a56e63cc2e",
   "metadata": {},
   "outputs": [],
   "source": []
  },
  {
   "cell_type": "code",
   "execution_count": null,
   "id": "e85e43c5-fc0c-4f55-bd68-236f59022254",
   "metadata": {},
   "outputs": [],
   "source": []
  },
  {
   "cell_type": "code",
   "execution_count": null,
   "id": "2b97ade4-8358-44a8-8c71-baa5811f9d99",
   "metadata": {},
   "outputs": [],
   "source": []
  }
 ],
 "metadata": {
  "kernelspec": {
   "display_name": "Python 3 (ipykernel)",
   "language": "python",
   "name": "python3"
  },
  "language_info": {
   "codemirror_mode": {
    "name": "ipython",
    "version": 3
   },
   "file_extension": ".py",
   "mimetype": "text/x-python",
   "name": "python",
   "nbconvert_exporter": "python",
   "pygments_lexer": "ipython3",
   "version": "3.12.4"
  }
 },
 "nbformat": 4,
 "nbformat_minor": 5
}
